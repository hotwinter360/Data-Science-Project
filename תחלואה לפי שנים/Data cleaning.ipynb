{
 "cells": [
  {
   "cell_type": "code",
   "execution_count": 138,
   "id": "50afa34e",
   "metadata": {},
   "outputs": [],
   "source": [
    "import pandas as pd\n",
    "import numpy as np\n"
   ]
  },
  {
   "cell_type": "code",
   "execution_count": 139,
   "id": "5bf6c3ca",
   "metadata": {
    "scrolled": false
   },
   "outputs": [
    {
     "data": {
      "text/plain": [
       "Index(['hide_gender', 'שנת אבחנה', 'מגדר ולאום', 'לאום', 'מגדר', 'סוג סרטן',\n",
       "       'קבוצת גיל', 'יבשת מוצא', 'מקדם עולמי', 'ASR Total', 'ASR_T',\n",
       "       'Cancer Rate', 'gender_code', 'ind_single_gender',\n",
       "       'World_Coefficient_N', 'אוכלוסיה', 'אוכלוסיה מחושבת', 'מספר מקרי סרטן',\n",
       "       'סה\"כ אוכלוסיה', 'סוגי סרטן לפי מגדר', 'סכום מקרי הסרטן'],\n",
       "      dtype='object')"
      ]
     },
     "execution_count": 139,
     "metadata": {},
     "output_type": "execute_result"
    }
   ],
   "source": [
    "df_10=pd.read_csv(\"2010.csv\")\n",
    "df_11=pd.read_csv(\"2011.csv\")\n",
    "df_12=pd.read_csv(\"2012.csv\")\n",
    "df_13=pd.read_csv(\"2013.csv\")\n",
    "df_14=pd.read_csv(\"2014.csv\")\n",
    "df_15=pd.read_csv(\"2015.csv\")\n",
    "df_16=pd.read_csv(\"2016.csv\")\n",
    "df_17=pd.read_csv(\"2017.csv\")\n",
    "df_18=pd.read_csv(\"2018.csv\")\n",
    "df_10.columns\n"
   ]
  },
  {
   "cell_type": "code",
   "execution_count": 140,
   "id": "b7658d80",
   "metadata": {},
   "outputs": [],
   "source": [
    "def drop_col(df,inplace=True):\n",
    "    df=df[['קבוצת גיל','מספר מקרי סרטן','שנת אבחנה','מגדר ולאום']]\n",
    "    df=df.rename(columns={'שנת אבחנה': 'diagnosis year','מספר מקרי סרטן':'number of patients','קבוצת גיל':'age group','מגדר ולאום':'Gender and nationality'})\n",
    "    df.dropna(axis=1)\n",
    "    df.replace(to_replace=\"NoData\",value=0,inplace=True)\n",
    "    df.replace(to_replace=\"05-ספט\",value=\"5-9\",inplace=True)\n",
    "    df.replace(to_replace=\"אוק-14\",value=\"10-14\",inplace=True)\n",
    "    df.sort_values(by=['age group'],inplace=True)\n",
    "    "
   ]
  },
  {
   "cell_type": "code",
   "execution_count": 141,
   "id": "feb7e0e6",
   "metadata": {},
   "outputs": [],
   "source": [
    "df_10=df_10[['קבוצת גיל','מספר מקרי סרטן','שנת אבחנה','מגדר ולאום']]\n",
    "df_10=df_10.rename(columns={'שנת אבחנה': 'diagnosis year','מספר מקרי סרטן':'number of patients','קבוצת גיל':'age group','מגדר ולאום':'Gender and nationality'})\n",
    "df_10.dropna(axis=1)\n",
    "df_10.replace(to_replace=\"NoData\",value=0,inplace=True)\n",
    "df_10.replace(to_replace=\"05-ספט\",value=\"5-9\",inplace=True)\n",
    "df_10.replace(to_replace=\"אוק-14\",value=\"10-14\",inplace=True)\n",
    "df_10.sort_values(by=['age group'],inplace=True)\n",
    "df_10.to_csv(\"clean_2010.csv\")"
   ]
  },
  {
   "cell_type": "code",
   "execution_count": 142,
   "id": "aef77cea",
   "metadata": {},
   "outputs": [],
   "source": [
    "\n",
    "df_11=df_11[['קבוצת גיל','מספר מקרי סרטן','שנת אבחנה','מגדר ולאום']]\n",
    "df_11=df_11.rename(columns={'שנת אבחנה': 'diagnosis year','מספר מקרי סרטן':'number of patients','קבוצת גיל':'age group','מגדר ולאום':'Gender and nationality'})\n",
    "df_11.dropna(axis=1)\n",
    "df_11.replace(to_replace=\"NoData\",value=0,inplace=True)\n",
    "df_11.replace(to_replace=\"05-ספט\",value=\"5-9\",inplace=True)\n",
    "df_11.replace(to_replace=\"אוק-14\",value=\"10-14\",inplace=True)\n",
    "df_11.sort_values(by=['age group'],inplace=True)\n",
    "df_11.to_csv(\"clean_2011.csv\")"
   ]
  },
  {
   "cell_type": "code",
   "execution_count": 143,
   "id": "ef3b22f4",
   "metadata": {},
   "outputs": [],
   "source": [
    "df_12=df_12[['קבוצת גיל','מספר מקרי סרטן','שנת אבחנה','מגדר ולאום']]\n",
    "df_12=df_12.rename(columns={'שנת אבחנה': 'diagnosis year','מספר מקרי סרטן':'number of patients','קבוצת גיל':'age group','מגדר ולאום':'Gender and nationality'})\n",
    "df_12.dropna(axis=1)\n",
    "df_12.replace(to_replace=\"NoData\",value=0,inplace=True)\n",
    "df_12.replace(to_replace=\"05-ספט\",value=\"5-9\",inplace=True)\n",
    "df_12.replace(to_replace=\"אוק-14\",value=\"10-14\",inplace=True)\n",
    "df_12.sort_values(by=['age group'],inplace=True)\n",
    "df_12.to_csv(\"clean_2012.csv\")"
   ]
  },
  {
   "cell_type": "code",
   "execution_count": 144,
   "id": "ccadb4e1",
   "metadata": {},
   "outputs": [],
   "source": [
    "df_13=df_13[['קבוצת גיל','מספר מקרי סרטן','שנת אבחנה','מגדר ולאום']]\n",
    "df_13=df_13.rename(columns={'שנת אבחנה': 'diagnosis year','מספר מקרי סרטן':'number of patients','קבוצת גיל':'age group','מגדר ולאום':'Gender and nationality'})\n",
    "df_13.dropna(axis=1)\n",
    "df_13.replace(to_replace=\"NoData\",value=0,inplace=True)\n",
    "df_13.replace(to_replace=\"05-ספט\",value=\"5-9\",inplace=True)\n",
    "df_13.replace(to_replace=\"אוק-14\",value=\"10-14\",inplace=True)\n",
    "df_13.sort_values(by=['age group'],inplace=True)\n",
    "df_13.to_csv(\"clean_2013.csv\")"
   ]
  },
  {
   "cell_type": "code",
   "execution_count": 145,
   "id": "23b17b73",
   "metadata": {},
   "outputs": [],
   "source": [
    "df_14=df_14[['קבוצת גיל','מספר מקרי סרטן','שנת אבחנה','מגדר ולאום']]\n",
    "df_14=df_14.rename(columns={'שנת אבחנה': 'diagnosis year','מספר מקרי סרטן':'number of patients','קבוצת גיל':'age group','מגדר ולאום':'Gender and nationality'})\n",
    "df_14.dropna(axis=1)\n",
    "df_14.replace(to_replace=\"NoData\",value=0,inplace=True)\n",
    "df_14.replace(to_replace=\"05-ספט\",value=\"5-9\",inplace=True)\n",
    "df_14.replace(to_replace=\"אוק-14\",value=\"10-14\",inplace=True)\n",
    "df_14.sort_values(by=['age group'],inplace=True)\n",
    "df_14.to_csv(\"clean_2014.csv\")"
   ]
  },
  {
   "cell_type": "code",
   "execution_count": 146,
   "id": "d27764db",
   "metadata": {},
   "outputs": [],
   "source": [
    "df_15=df_15[['קבוצת גיל','מספר מקרי סרטן','שנת אבחנה','מגדר ולאום']]\n",
    "df_15=df_15.rename(columns={'שנת אבחנה': 'diagnosis year','מספר מקרי סרטן':'number of patients','קבוצת גיל':'age group','מגדר ולאום':'Gender and nationality'})\n",
    "df_15.dropna(axis=1)\n",
    "df_15.replace(to_replace=\"NoData\",value=0,inplace=True)\n",
    "df_15.replace(to_replace=\"05-ספט\",value=\"5-9\",inplace=True)\n",
    "df_15.replace(to_replace=\"אוק-14\",value=\"10-14\",inplace=True)\n",
    "df_15.sort_values(by=['age group'],inplace=True)\n",
    "df_15.to_csv(\"clean_2015.csv\")"
   ]
  },
  {
   "cell_type": "code",
   "execution_count": 147,
   "id": "16538ae8",
   "metadata": {},
   "outputs": [],
   "source": [
    "df_16=df_16[['קבוצת גיל','מספר מקרי סרטן','שנת אבחנה','מגדר ולאום']]\n",
    "df_16=df_16.rename(columns={'שנת אבחנה': 'diagnosis year','מספר מקרי סרטן':'number of patients','קבוצת גיל':'age group','מגדר ולאום':'Gender and nationality'})\n",
    "df_16.dropna(axis=1)\n",
    "df_16.replace(to_replace=\"NoData\",value=0,inplace=True)\n",
    "df_16.replace(to_replace=\"05-ספט\",value=\"5-9\",inplace=True)\n",
    "df_16.replace(to_replace=\"אוק-14\",value=\"10-14\",inplace=True)\n",
    "df_16.sort_values(by=['age group'],inplace=True)\n",
    "df_16.to_csv(\"clean_2016.csv\")"
   ]
  },
  {
   "cell_type": "code",
   "execution_count": 148,
   "id": "16e6e7d3",
   "metadata": {},
   "outputs": [],
   "source": [
    "df_17=df_17[['קבוצת גיל','מספר מקרי סרטן','שנת אבחנה','מגדר ולאום']]\n",
    "df_17=df_17.rename(columns={'שנת אבחנה': 'diagnosis year','מספר מקרי סרטן':'number of patients','קבוצת גיל':'age group','מגדר ולאום':'Gender and nationality'})\n",
    "df_17.dropna(axis=1)\n",
    "df_17.replace(to_replace=\"NoData\",value=0,inplace=True)\n",
    "df_17.replace(to_replace=\"05-ספט\",value=\"5-9\",inplace=True)\n",
    "df_17.replace(to_replace=\"אוק-14\",value=\"10-14\",inplace=True)\n",
    "df_17.sort_values(by=['age group'],inplace=True)\n",
    "df_17.to_csv(\"clean_2017.csv\")"
   ]
  },
  {
   "cell_type": "code",
   "execution_count": 149,
   "id": "a4b441b0",
   "metadata": {},
   "outputs": [],
   "source": [
    "df_18=df_18[['קבוצת גיל','מספר מקרי סרטן','שנת אבחנה','מגדר ולאום']]\n",
    "df_18=df_18.rename(columns={'שנת אבחנה': 'diagnosis year','מספר מקרי סרטן':'number of patients','קבוצת גיל':'age group','מגדר ולאום':'Gender and nationality'})\n",
    "df_18.dropna(axis=1)\n",
    "df_18.replace(to_replace=\"NoData\",value=0,inplace=True)\n",
    "df_18.replace(to_replace=\"05-ספט\",value=\"5-9\",inplace=True)\n",
    "df_18.replace(to_replace=\"אוק-14\",value=\"10-14\",inplace=True)\n",
    "df_18.sort_values(by=['age group'],inplace=True)\n",
    "df_18.to_csv(\"clean_2018.csv\")"
   ]
  },
  {
   "cell_type": "code",
   "execution_count": null,
   "id": "846d09f2",
   "metadata": {},
   "outputs": [],
   "source": []
  }
 ],
 "metadata": {
  "kernelspec": {
   "display_name": "Python 3 (ipykernel)",
   "language": "python",
   "name": "python3"
  },
  "language_info": {
   "codemirror_mode": {
    "name": "ipython",
    "version": 3
   },
   "file_extension": ".py",
   "mimetype": "text/x-python",
   "name": "python",
   "nbconvert_exporter": "python",
   "pygments_lexer": "ipython3",
   "version": "3.9.7"
  }
 },
 "nbformat": 4,
 "nbformat_minor": 5
}
