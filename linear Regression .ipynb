{
 "cells": [
  {
   "cell_type": "code",
   "execution_count": 26,
   "id": "cb4fb60a",
   "metadata": {},
   "outputs": [
    {
     "data": {
      "text/plain": [
       "'משתנה תלוי:מספר החולים(מוסבר)\\nמשתנה בלתי תלוי: גודל האוכלוסיה (מסביר)\\nמספר חולים = Xאוכלוסיה+B\\n'"
      ]
     },
     "execution_count": 26,
     "metadata": {},
     "output_type": "execute_result"
    }
   ],
   "source": [
    " \"\"\"משתנה תלוי:מספר החולים(מוסבר)\n",
    "משתנה בלתי תלוי: גודל האוכלוסיה (מסביר)\n",
    " מספר חולים = Xאוכלוסיה+B\n",
    "\"\"\"\n"
   ]
  },
  {
   "cell_type": "code",
   "execution_count": 27,
   "id": "8909c775",
   "metadata": {},
   "outputs": [],
   "source": [
    "# imports \n",
    "import numpy as np\n",
    "import pandas as pd\n",
    "from sklearn import linear_model,metrics,preprocessing\n",
    "from sklearn.model_selection import train_test_split\n",
    "from sklearn.metrics import mean_absolute_error,r2_score\n",
    "from sklearn.linear_model import LinearRegression, LogisticRegression\n",
    "#and visualization setup\n",
    "import matplotlib.pyplot as plt\n",
    "%matplotlib inline  \n",
    "plt.rcParams['figure.figsize'] = (10, 6)\n",
    "\n",
    "from mpl_toolkits.mplot3d import Axes3D\n",
    "from matplotlib import cm"
   ]
  },
  {
   "cell_type": "code",
   "execution_count": 28,
   "id": "26269ab8",
   "metadata": {},
   "outputs": [
    {
     "data": {
      "text/html": [
       "<div>\n",
       "<style scoped>\n",
       "    .dataframe tbody tr th:only-of-type {\n",
       "        vertical-align: middle;\n",
       "    }\n",
       "\n",
       "    .dataframe tbody tr th {\n",
       "        vertical-align: top;\n",
       "    }\n",
       "\n",
       "    .dataframe thead th {\n",
       "        text-align: right;\n",
       "    }\n",
       "</style>\n",
       "<table border=\"1\" class=\"dataframe\">\n",
       "  <thead>\n",
       "    <tr style=\"text-align: right;\">\n",
       "      <th></th>\n",
       "      <th>year</th>\n",
       "      <th>population</th>\n",
       "      <th>growth_rate</th>\n",
       "      <th>morbidity</th>\n",
       "      <th>unsick</th>\n",
       "      <th>morbidity_rate</th>\n",
       "    </tr>\n",
       "  </thead>\n",
       "  <tbody>\n",
       "    <tr>\n",
       "      <th>0</th>\n",
       "      <td>2010</td>\n",
       "      <td>7346446</td>\n",
       "      <td>2.18%</td>\n",
       "      <td>2268</td>\n",
       "      <td>7,344,178</td>\n",
       "      <td>0.030872</td>\n",
       "    </tr>\n",
       "    <tr>\n",
       "      <th>1</th>\n",
       "      <td>2011</td>\n",
       "      <td>7487100</td>\n",
       "      <td>1.91%</td>\n",
       "      <td>2206</td>\n",
       "      <td>7,484,894</td>\n",
       "      <td>0.029464</td>\n",
       "    </tr>\n",
       "    <tr>\n",
       "      <th>2</th>\n",
       "      <td>2012</td>\n",
       "      <td>7614952</td>\n",
       "      <td>1.71%</td>\n",
       "      <td>2382</td>\n",
       "      <td>7,612,570</td>\n",
       "      <td>0.031281</td>\n",
       "    </tr>\n",
       "    <tr>\n",
       "      <th>3</th>\n",
       "      <td>2013</td>\n",
       "      <td>7734841</td>\n",
       "      <td>1.57%</td>\n",
       "      <td>2521</td>\n",
       "      <td>7,732,320</td>\n",
       "      <td>0.032593</td>\n",
       "    </tr>\n",
       "    <tr>\n",
       "      <th>4</th>\n",
       "      <td>2014</td>\n",
       "      <td>7854213</td>\n",
       "      <td>1.54%</td>\n",
       "      <td>2646</td>\n",
       "      <td>7,851,567</td>\n",
       "      <td>0.033689</td>\n",
       "    </tr>\n",
       "    <tr>\n",
       "      <th>5</th>\n",
       "      <td>2015</td>\n",
       "      <td>7978490</td>\n",
       "      <td>1.58%</td>\n",
       "      <td>2594</td>\n",
       "      <td>7,975,896</td>\n",
       "      <td>0.032512</td>\n",
       "    </tr>\n",
       "    <tr>\n",
       "      <th>6</th>\n",
       "      <td>2016</td>\n",
       "      <td>8108985</td>\n",
       "      <td>1.64%</td>\n",
       "      <td>2759</td>\n",
       "      <td>8,106,226</td>\n",
       "      <td>0.034024</td>\n",
       "    </tr>\n",
       "    <tr>\n",
       "      <th>7</th>\n",
       "      <td>2017</td>\n",
       "      <td>8243848</td>\n",
       "      <td>1.66%</td>\n",
       "      <td>2675</td>\n",
       "      <td>8,241,173</td>\n",
       "      <td>0.032448</td>\n",
       "    </tr>\n",
       "    <tr>\n",
       "      <th>8</th>\n",
       "      <td>2018</td>\n",
       "      <td>8381516</td>\n",
       "      <td>1.67%</td>\n",
       "      <td>2764</td>\n",
       "      <td>8,378,752</td>\n",
       "      <td>0.032977</td>\n",
       "    </tr>\n",
       "  </tbody>\n",
       "</table>\n",
       "</div>"
      ],
      "text/plain": [
       "   year population growth_rate  morbidity     unsick  morbidity_rate\n",
       "0  2010    7346446       2.18%       2268  7,344,178        0.030872\n",
       "1  2011    7487100       1.91%       2206  7,484,894        0.029464\n",
       "2  2012    7614952       1.71%       2382  7,612,570        0.031281\n",
       "3  2013    7734841       1.57%       2521  7,732,320        0.032593\n",
       "4  2014    7854213       1.54%       2646  7,851,567        0.033689\n",
       "5  2015    7978490       1.58%       2594  7,975,896        0.032512\n",
       "6  2016    8108985       1.64%       2759  8,106,226        0.034024\n",
       "7  2017    8243848       1.66%       2675  8,241,173        0.032448\n",
       "8  2018    8381516       1.67%       2764  8,378,752        0.032977"
      ]
     },
     "execution_count": 28,
     "metadata": {},
     "output_type": "execute_result"
    }
   ],
   "source": [
    "df=pd.read_csv(\"Morbidity.csv\")\n",
    "df['population']=df['population'].str.replace(\",\",\"\")\n",
    "df"
   ]
  },
  {
   "cell_type": "code",
   "execution_count": 29,
   "id": "247f7008",
   "metadata": {},
   "outputs": [
    {
     "data": {
      "text/html": [
       "<div>\n",
       "<style scoped>\n",
       "    .dataframe tbody tr th:only-of-type {\n",
       "        vertical-align: middle;\n",
       "    }\n",
       "\n",
       "    .dataframe tbody tr th {\n",
       "        vertical-align: top;\n",
       "    }\n",
       "\n",
       "    .dataframe thead th {\n",
       "        text-align: right;\n",
       "    }\n",
       "</style>\n",
       "<table border=\"1\" class=\"dataframe\">\n",
       "  <thead>\n",
       "    <tr style=\"text-align: right;\">\n",
       "      <th></th>\n",
       "      <th>year</th>\n",
       "      <th>morbidity</th>\n",
       "      <th>morbidity_rate</th>\n",
       "    </tr>\n",
       "  </thead>\n",
       "  <tbody>\n",
       "    <tr>\n",
       "      <th>count</th>\n",
       "      <td>9.000000</td>\n",
       "      <td>9.000000</td>\n",
       "      <td>9.000000</td>\n",
       "    </tr>\n",
       "    <tr>\n",
       "      <th>mean</th>\n",
       "      <td>2014.000000</td>\n",
       "      <td>2535.000000</td>\n",
       "      <td>0.032207</td>\n",
       "    </tr>\n",
       "    <tr>\n",
       "      <th>std</th>\n",
       "      <td>2.738613</td>\n",
       "      <td>206.504843</td>\n",
       "      <td>0.001439</td>\n",
       "    </tr>\n",
       "    <tr>\n",
       "      <th>min</th>\n",
       "      <td>2010.000000</td>\n",
       "      <td>2206.000000</td>\n",
       "      <td>0.029464</td>\n",
       "    </tr>\n",
       "    <tr>\n",
       "      <th>25%</th>\n",
       "      <td>2012.000000</td>\n",
       "      <td>2382.000000</td>\n",
       "      <td>0.031281</td>\n",
       "    </tr>\n",
       "    <tr>\n",
       "      <th>50%</th>\n",
       "      <td>2014.000000</td>\n",
       "      <td>2594.000000</td>\n",
       "      <td>0.032512</td>\n",
       "    </tr>\n",
       "    <tr>\n",
       "      <th>75%</th>\n",
       "      <td>2016.000000</td>\n",
       "      <td>2675.000000</td>\n",
       "      <td>0.032977</td>\n",
       "    </tr>\n",
       "    <tr>\n",
       "      <th>max</th>\n",
       "      <td>2018.000000</td>\n",
       "      <td>2764.000000</td>\n",
       "      <td>0.034024</td>\n",
       "    </tr>\n",
       "  </tbody>\n",
       "</table>\n",
       "</div>"
      ],
      "text/plain": [
       "              year    morbidity  morbidity_rate\n",
       "count     9.000000     9.000000        9.000000\n",
       "mean   2014.000000  2535.000000        0.032207\n",
       "std       2.738613   206.504843        0.001439\n",
       "min    2010.000000  2206.000000        0.029464\n",
       "25%    2012.000000  2382.000000        0.031281\n",
       "50%    2014.000000  2594.000000        0.032512\n",
       "75%    2016.000000  2675.000000        0.032977\n",
       "max    2018.000000  2764.000000        0.034024"
      ]
     },
     "execution_count": 29,
     "metadata": {},
     "output_type": "execute_result"
    }
   ],
   "source": [
    "df.describe()\n"
   ]
  },
  {
   "cell_type": "code",
   "execution_count": 30,
   "id": "f7074e12",
   "metadata": {},
   "outputs": [
    {
     "data": {
      "text/plain": [
       "LinearRegression(fit_intercept=0)"
      ]
     },
     "execution_count": 30,
     "metadata": {},
     "output_type": "execute_result"
    }
   ],
   "source": [
    "t_df=df.drop([\"growth_rate\"],axis=1)\n",
    "t_df=t_df[[\"year\",\"population\",\"morbidity\",]]\n",
    "X=t_df.iloc[:,:-1]\n",
    "Y=t_df.iloc[:,-1]\n",
    "X_train,X_test,Y_train,Y_test = train_test_split(X,Y,random_state=0)\n",
    "reg=LinearRegression(fit_intercept=0)\n",
    "reg.fit(X_train,Y_train)"
   ]
  },
  {
   "cell_type": "code",
   "execution_count": 19,
   "id": "0f227866",
   "metadata": {},
   "outputs": [
    {
     "data": {
      "text/html": [
       "<div>\n",
       "<style scoped>\n",
       "    .dataframe tbody tr th:only-of-type {\n",
       "        vertical-align: middle;\n",
       "    }\n",
       "\n",
       "    .dataframe tbody tr th {\n",
       "        vertical-align: top;\n",
       "    }\n",
       "\n",
       "    .dataframe thead th {\n",
       "        text-align: right;\n",
       "    }\n",
       "</style>\n",
       "<table border=\"1\" class=\"dataframe\">\n",
       "  <thead>\n",
       "    <tr style=\"text-align: right;\">\n",
       "      <th></th>\n",
       "      <th>year</th>\n",
       "      <th>population</th>\n",
       "    </tr>\n",
       "  </thead>\n",
       "  <tbody>\n",
       "    <tr>\n",
       "      <th>7</th>\n",
       "      <td>2017</td>\n",
       "      <td>8243848</td>\n",
       "    </tr>\n",
       "    <tr>\n",
       "      <th>2</th>\n",
       "      <td>2012</td>\n",
       "      <td>7614952</td>\n",
       "    </tr>\n",
       "    <tr>\n",
       "      <th>1</th>\n",
       "      <td>2011</td>\n",
       "      <td>7487100</td>\n",
       "    </tr>\n",
       "  </tbody>\n",
       "</table>\n",
       "</div>"
      ],
      "text/plain": [
       "   year population\n",
       "7  2017    8243848\n",
       "2  2012    7614952\n",
       "1  2011    7487100"
      ]
     },
     "execution_count": 19,
     "metadata": {},
     "output_type": "execute_result"
    }
   ],
   "source": [
    "y_pred=reg.predict(X_test)\n",
    "X_test"
   ]
  },
  {
   "cell_type": "code",
   "execution_count": 20,
   "id": "9bcbbf7d",
   "metadata": {},
   "outputs": [
    {
     "data": {
      "text/plain": [
       "array([2762.27669741, 2450.23974144, 2386.79268184])"
      ]
     },
     "execution_count": 20,
     "metadata": {},
     "output_type": "execute_result"
    }
   ],
   "source": [
    "y_pred"
   ]
  },
  {
   "cell_type": "code",
   "execution_count": 21,
   "id": "1470413e",
   "metadata": {
    "scrolled": false
   },
   "outputs": [
    {
     "name": "stdout",
     "output_type": "stream",
     "text": [
      "mse:14986.626010352042\n",
      "r^2:0.5995093795669405\n"
     ]
    }
   ],
   "source": [
    "print(f\"mse:{metrics.mean_squared_error(Y_test,y_pred)}\")\n",
    "print(f\"r^2:{metrics.r2_score(Y_test,y_pred)}\")"
   ]
  },
  {
   "cell_type": "code",
   "execution_count": null,
   "id": "cc7a2d70",
   "metadata": {},
   "outputs": [],
   "source": []
  },
  {
   "cell_type": "code",
   "execution_count": null,
   "id": "866a59b7",
   "metadata": {},
   "outputs": [],
   "source": []
  }
 ],
 "metadata": {
  "kernelspec": {
   "display_name": "Python 3 (ipykernel)",
   "language": "python",
   "name": "python3"
  },
  "language_info": {
   "codemirror_mode": {
    "name": "ipython",
    "version": 3
   },
   "file_extension": ".py",
   "mimetype": "text/x-python",
   "name": "python",
   "nbconvert_exporter": "python",
   "pygments_lexer": "ipython3",
   "version": "3.9.7"
  }
 },
 "nbformat": 4,
 "nbformat_minor": 5
}
